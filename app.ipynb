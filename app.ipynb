{
 "cells": [
  {
   "cell_type": "code",
   "execution_count": 1,
   "metadata": {},
   "outputs": [],
   "source": [
    "from flask import Flask,request, url_for, redirect, render_template\n",
    "import pickle\n",
    "import numpy as np\n",
    "\n"
   ]
  },
  {
   "cell_type": "code",
   "execution_count": 2,
   "metadata": {},
   "outputs": [],
   "source": [
    "app = Flask(__name__,template_folder=r\"C:\\Users\\SANYA\\Desktop\\work\\Hackathon BVIP\")\n",
    "\n",
    "model=pickle.load(open('model.pkl','rb'))\n",
    "model1=pickle.load(open('model1.pkl','rb'))\n",
    "model2=pickle.load(open('model2.pkl','rb'))\n",
    "model3=pickle.load(open('model3.pkl','rb'))\n"
   ]
  },
  {
   "cell_type": "code",
   "execution_count": 3,
   "metadata": {},
   "outputs": [],
   "source": [
    "@app.route('/')\n",
    "def hello_world():\n",
    "    return render_template('final.html')"
   ]
  },
  {
   "cell_type": "code",
   "execution_count": 4,
   "metadata": {},
   "outputs": [],
   "source": [
    "@app.route('/predict',methods=['POST','GET'])\n",
    "def predict():\n",
    "    int_features=[float(x) for x in request.form.values()]\n",
    "    final=[np.array(int_features)]\n",
    "    prediction=model.predict(final)\n",
    "    p1=model1.predict(final)\n",
    "    p2=model2.predict(final)\n",
    "    p3=model3.predict(final)\n",
    "    if(p1[0]==1):\n",
    "        ward=\"Regular Ward\"\n",
    "    elif(p2[0]==1):\n",
    "        ward=\"Semi-Intensive Unit\"\n",
    "    elif(p3[0]==1):\n",
    "         ward=\"Intensive Care Unit\"\n",
    "    else:\n",
    "        ward=\"Regular Ward\"\n",
    "    \n",
    "        \n",
    "    s=model.predict_proba(final)[0][0]\n",
    "\n",
    "    output=prediction[0]\n",
    "    if output==0:\n",
    "        ward = NO\n",
    "    if output==1 :\n",
    "        return render_template('final.html',pred=\"Positive \\n\\n\\n [Probability : {:0.2f}]and the {} is required  \".format(s,ward))\n",
    "    else:\n",
    "        return render_template('final.html',pred=\"Negative\")   \n",
    "    \n",
    "    \n",
    "    \n",
    "\n",
    "    "
   ]
  },
  {
   "cell_type": "code",
   "execution_count": null,
   "metadata": {},
   "outputs": [
    {
     "name": "stderr",
     "output_type": "stream",
     "text": [
      " * Running on http://localhost:5000/ (Press CTRL+C to quit)\n"
     ]
    }
   ],
   "source": [
    "if __name__ == \"__main__\":\n",
    "   from werkzeug.serving import run_simple\n",
    "   run_simple('localhost', 5000, app,use_debugger=True)\n"
   ]
  },
  {
   "cell_type": "code",
   "execution_count": null,
   "metadata": {},
   "outputs": [],
   "source": []
  },
  {
   "cell_type": "code",
   "execution_count": null,
   "metadata": {},
   "outputs": [],
   "source": []
  }
 ],
 "metadata": {
  "kernelspec": {
   "display_name": "Python 3",
   "language": "python",
   "name": "python3"
  },
  "language_info": {
   "codemirror_mode": {
    "name": "ipython",
    "version": 3
   },
   "file_extension": ".py",
   "mimetype": "text/x-python",
   "name": "python",
   "nbconvert_exporter": "python",
   "pygments_lexer": "ipython3",
   "version": "3.7.4"
  }
 },
 "nbformat": 4,
 "nbformat_minor": 4
}
